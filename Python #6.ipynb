{
 "cells": [
  {
   "cell_type": "markdown",
   "metadata": {},
   "source": [
    "# <font size=\"15\"> Python #6 </font>\n",
    "## Table of Contents:  \n",
    "1. [For Loops](#section1)    \n",
    "   \n",
    " \n",
    " \n",
    "## Contact:\n",
    "Email: [Hailey Tran](mailto:hailey.tran@berkeley.edu) \n",
    " \n",
    "\n",
    "\n",
    "After today you will know how to:\n",
    "1. Write and comprehend For Loops in Python\n",
    "\n",
    "\n"
   ]
  },
  {
   "cell_type": "markdown",
   "metadata": {},
   "source": [
    "<a id='section1'></a>\n",
    "# Part 1: For Loops\n",
    "We can further control our code by repeating some process over and over on a sequence. For example, quarantine won't let you see your friends in person, so you want to text and greet each of your friends individually. Instead of copying and pasting the same text over and over again, you can use a for loop.\n",
    "\n",
    "\n",
    "Below is what the form of a **for loop** should look like:"
   ]
  },
  {
   "cell_type": "code",
   "execution_count": null,
   "metadata": {},
   "outputs": [],
   "source": [
    "# This code is only a skeleton. It will error if you run it.\n",
    "for <variable> in <sequence>:\n",
    "    block of code"
   ]
  },
  {
   "cell_type": "markdown",
   "metadata": {},
   "source": [
    "The **variable** is a name we give each item in a sequence. It is usually just 'i'.\n",
    "\n",
    "The **sequence** includes anything that can be arranged in an order including a list or a string."
   ]
  },
  {
   "cell_type": "markdown",
   "metadata": {},
   "source": [
    "<a id='section1.2'></a>\n",
    "### 1.2 For Loops for Lists and Strings"
   ]
  },
  {
   "cell_type": "markdown",
   "metadata": {},
   "source": [
    "Here is an example of a for loop used to iterate over a list."
   ]
  },
  {
   "cell_type": "code",
   "execution_count": null,
   "metadata": {},
   "outputs": [],
   "source": [
    "# Run this cell\n",
    "for i in range(10):\n",
    "    print(\"hello!\")"
   ]
  },
  {
   "cell_type": "markdown",
   "metadata": {},
   "source": [
    "Above shows how for loops help us avoid redundant code and save time!"
   ]
  },
  {
   "cell_type": "markdown",
   "metadata": {},
   "source": [
    "Notice how the code above says `range(10)`. What exactly does range mean??\n",
    "\n",
    "**Concept 1.2.1:** **range(n)** \n",
    "- this function returns a sequence of numbers, starting from 0 , increasing by 1 each time, and stopping before a specified number.\n",
    "    - Example: range(8) is equivalent to [0, 1, 2, 3, 4, 5, 6, 7]\n",
    "\n",
    "Look at the example below using range(n)."
   ]
  },
  {
   "cell_type": "code",
   "execution_count": null,
   "metadata": {},
   "outputs": [],
   "source": [
    "#Run this cell and notice the starting and ending number\n",
    "my_list = range(6)\n",
    "for i in my_list:\n",
    "    print(i)"
   ]
  },
  {
   "cell_type": "markdown",
   "metadata": {},
   "source": [
    "**Exercise 1.2.1**  Replace the `...`s below so that each item in the list is printed out. Hint: to find how many elements are in the fruits list use the `len(list)` function."
   ]
  },
  {
   "cell_type": "code",
   "execution_count": null,
   "metadata": {},
   "outputs": [],
   "source": [
    "#Run the cell afterward to check your answer \n",
    "fruits = [\"tomato\", \"banana\", \"watermelon\"]\n",
    "for ... in ...:\n",
    "    print ..."
   ]
  },
  {
   "cell_type": "markdown",
   "metadata": {},
   "source": [
    "**Concept 1.2.2:** The **break** statement \n",
    "- With the break statement, we can stop the loop before it has looped through all the items in the sequence.\n",
    "\n",
    "Look at the example below using the break statement."
   ]
  },
  {
   "cell_type": "code",
   "execution_count": null,
   "metadata": {},
   "outputs": [],
   "source": [
    "#Run this cell \n",
    "sports = [\"soccer\", \"hockey\", \"baseball\", \"swimming\"]\n",
    "\n",
    "for i in sports:\n",
    "    print(i)\n",
    "    if i == \"hockey\":\n",
    "        break"
   ]
  },
  {
   "cell_type": "markdown",
   "metadata": {},
   "source": [
    "Here is an example of iterating over a string:"
   ]
  },
  {
   "cell_type": "code",
   "execution_count": null,
   "metadata": {},
   "outputs": [],
   "source": [
    "#Run this cell\n",
    "for letters in \"banana\":\n",
    "    print(letters) "
   ]
  },
  {
   "cell_type": "markdown",
   "metadata": {},
   "source": [
    "**Exercise 1.2.2** In the cell below write code to print out the items in the list [0,1,2,3,4,5] but stop printing when you get to 3."
   ]
  },
  {
   "cell_type": "code",
   "execution_count": null,
   "metadata": {},
   "outputs": [],
   "source": []
  },
  {
   "cell_type": "markdown",
   "metadata": {},
   "source": [
    "**Exercise 1.2.3** Use a for loop to print the even numbers from the given list."
   ]
  },
  {
   "cell_type": "code",
   "execution_count": null,
   "metadata": {},
   "outputs": [],
   "source": [
    "#print the even numbers from a given list.\n",
    "list2 = [1, 2, 3, 4, 5, 6, 7, 8, 9]\n",
    "\n",
    "\n"
   ]
  },
  {
   "cell_type": "markdown",
   "metadata": {},
   "source": [
    "**Challenge Question 1.2.2** Use a for loop to sum all the numbers in the list."
   ]
  },
  {
   "cell_type": "code",
   "execution_count": 8,
   "metadata": {},
   "outputs": [],
   "source": [
    "listt = [8, 2, 3, 0, 7]\n",
    "\n",
    "\n"
   ]
  }
 ],
 "metadata": {
  "kernelspec": {
   "display_name": "Python 3",
   "language": "python",
   "name": "python3"
  },
  "language_info": {
   "codemirror_mode": {
    "name": "ipython",
    "version": 3
   },
   "file_extension": ".py",
   "mimetype": "text/x-python",
   "name": "python",
   "nbconvert_exporter": "python",
   "pygments_lexer": "ipython3",
   "version": "3.6.9"
  }
 },
 "nbformat": 4,
 "nbformat_minor": 4
}
